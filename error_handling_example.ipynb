{
 "cells": [
  {
   "cell_type": "code",
   "execution_count": null,
   "id": "4ca7eb9c-2998-4206-af01-ba25a0001da0",
   "metadata": {},
   "outputs": [],
   "source": [
    "from error_handling import MathError, LogSmallError, ExpLargeError\n",
    "from error_handling import rust_log, rust_exp, rust_div, rust_log_with_exp, rust_log_with_exp2, rust_handle_error"
   ]
  },
  {
   "cell_type": "code",
   "execution_count": null,
   "id": "d16cea0d",
   "metadata": {},
   "outputs": [],
   "source": [
    "rust_log(0.0)"
   ]
  },
  {
   "cell_type": "code",
   "execution_count": null,
   "id": "82ef9ba8",
   "metadata": {},
   "outputs": [],
   "source": [
    "rust_exp(1000)"
   ]
  },
  {
   "cell_type": "code",
   "execution_count": null,
   "id": "b5a69e30",
   "metadata": {},
   "outputs": [],
   "source": [
    "rust_log_with_exp(0.0)"
   ]
  },
  {
   "cell_type": "code",
   "execution_count": null,
   "id": "ef961e8e",
   "metadata": {},
   "outputs": [],
   "source": [
    "try:\n",
    "    rust_log_with_exp(0.0)\n",
    "except MathError as err:\n",
    "    print(err)"
   ]
  },
  {
   "cell_type": "code",
   "execution_count": null,
   "id": "aef63c08",
   "metadata": {},
   "outputs": [],
   "source": [
    "rust_log_with_exp2(0.0)"
   ]
  },
  {
   "cell_type": "code",
   "execution_count": null,
   "id": "5e868fd1",
   "metadata": {},
   "outputs": [],
   "source": [
    "rust_div(1.0, 0.0)"
   ]
  },
  {
   "cell_type": "code",
   "execution_count": null,
   "id": "9cc8e081",
   "metadata": {},
   "outputs": [],
   "source": [
    "rust_handle_error(1000)"
   ]
  },
  {
   "cell_type": "code",
   "execution_count": null,
   "id": "08258c49",
   "metadata": {},
   "outputs": [],
   "source": [
    "def handle_error(x: float) -> int:\n",
    "    try:\n",
    "        rust_log(x)\n",
    "        rust_exp(x)\n",
    "    except MathError as err:\n",
    "        match err:\n",
    "            case LogSmallError():\n",
    "                return 1\n",
    "            case ExpLargeError():\n",
    "                return 2\n",
    "            case _:\n",
    "                return 100\n",
    "\n",
    "    else:\n",
    "        return 0\n"
   ]
  },
  {
   "cell_type": "code",
   "execution_count": null,
   "id": "d422ac4f",
   "metadata": {},
   "outputs": [],
   "source": [
    "handle_error(1000)"
   ]
  },
  {
   "cell_type": "code",
   "execution_count": null,
   "id": "e2342acd",
   "metadata": {},
   "outputs": [],
   "source": []
  }
 ],
 "metadata": {
  "kernelspec": {
   "display_name": "Python 3 (ipykernel)",
   "language": "python",
   "name": "python3"
  },
  "language_info": {
   "codemirror_mode": {
    "name": "ipython",
    "version": 3
   },
   "file_extension": ".py",
   "mimetype": "text/x-python",
   "name": "python",
   "nbconvert_exporter": "python",
   "pygments_lexer": "ipython3",
   "version": "3.10.1"
  }
 },
 "nbformat": 4,
 "nbformat_minor": 5
}
